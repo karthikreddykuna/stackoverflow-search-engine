{
 "cells": [
  {
   "cell_type": "markdown",
   "metadata": {},
   "source": [
    "# Stack overflow Search Engine"
   ]
  },
  {
   "cell_type": "markdown",
   "metadata": {},
   "source": [
    "**Stack overflow** is the platform of questions and answers which is used by many professional and enthusiast programmers.The objective of the project is to fine tune the search result and return most relevant results to the user. \n",
    "\n",
    "Google Bigquery dataset is updated on quarterly basis, that includes an archive of Stack Overflow content, including posts, votes, tags, and badges.  This dataset is updated to mirror the Stack Overflow content on the Internet Archive, and is also available through the Stack Exchange Data Explorer. More info about the dataset is given at: https://www.kaggle.com/stackoverflow/stackoverflow\n",
    "\n",
    "we utilized bq_helper that simplifies common read-only tasks in BigQuery by dealing with object references and unpacking result objects into pandas dataframes. "
   ]
  },
  {
   "cell_type": "markdown",
   "metadata": {},
   "source": [
    "### Importing the libraries"
   ]
  },
  {
   "cell_type": "code",
   "execution_count": 2,
   "metadata": {},
   "outputs": [],
   "source": [
    "import bq_helper,os,spacy,warnings\n",
    "from bs4 import BeautifulSoup\n",
    "import pandas as pd\n",
    "import numpy as np\n",
    "EN = spacy.load('en_core_web_sm')"
   ]
  },
  {
   "cell_type": "markdown",
   "metadata": {},
   "source": [
    "We retrieved the data required by utilizing BigQueryHelper of bq_helper. Using 'SELECT' we retrived the required columns for the dataset and then performed an Inner Join operation on the \"post questions\" and \"post answers\". Here we are retrieving data on questions related to python.We limited the collection of data to 500,000 data points for faster processing. We then storing the query data in csv file. "
   ]
  },
  {
   "cell_type": "code",
   "execution_count": 19,
   "metadata": {},
   "outputs": [],
   "source": [
    "from bq_helper import BigQueryHelper\n",
    "temp = BigQueryHelper(\"bigquery-public-data\", \"stackoverflow\")\n",
    "QUERY = \"SELECT q.id, q.title, q.body, q.tags, a.body as answers, a.score FROM `bigquery-public-data.stackoverflow.posts_questions` AS q INNER JOIN `bigquery-public-data.stackoverflow.posts_answers` AS a ON q.id = a.parent_id WHERE q.tags LIKE '%python%' LIMIT 500000\"\n",
    "data = temp.query_to_pandas(QUERY)\n",
    "data.to_csv('data/Original_data.csv')"
   ]
  },
  {
   "cell_type": "markdown",
   "metadata": {},
   "source": [
    "## Load Data\n",
    "\n",
    "Let's load the data collected using BigQueryHelper."
   ]
  },
  {
   "cell_type": "code",
   "execution_count": 3,
   "metadata": {},
   "outputs": [
    {
     "data": {
      "text/html": [
       "<div>\n",
       "<style scoped>\n",
       "    .dataframe tbody tr th:only-of-type {\n",
       "        vertical-align: middle;\n",
       "    }\n",
       "\n",
       "    .dataframe tbody tr th {\n",
       "        vertical-align: top;\n",
       "    }\n",
       "\n",
       "    .dataframe thead th {\n",
       "        text-align: right;\n",
       "    }\n",
       "</style>\n",
       "<table border=\"1\" class=\"dataframe\">\n",
       "  <thead>\n",
       "    <tr style=\"text-align: right;\">\n",
       "      <th></th>\n",
       "      <th>id</th>\n",
       "      <th>title</th>\n",
       "      <th>body</th>\n",
       "      <th>tags</th>\n",
       "      <th>answers</th>\n",
       "      <th>score</th>\n",
       "    </tr>\n",
       "  </thead>\n",
       "  <tbody>\n",
       "    <tr>\n",
       "      <th>0</th>\n",
       "      <td>2345151</td>\n",
       "      <td>how to save/read class wholly in Python</td>\n",
       "      <td>&lt;pre&gt;&lt;code&gt;som = SOM_CLASS() # includes many b...</td>\n",
       "      <td>python|class|autosave</td>\n",
       "      <td>&lt;p&gt;You can (de)serialize with &lt;a href=\"http://...</td>\n",
       "      <td>17</td>\n",
       "    </tr>\n",
       "    <tr>\n",
       "      <th>1</th>\n",
       "      <td>15288891</td>\n",
       "      <td>How can I serve files with UTF-8 encoding usin...</td>\n",
       "      <td>&lt;p&gt;I often use the following to quickly fire u...</td>\n",
       "      <td>python|webserver</td>\n",
       "      <td>&lt;p&gt;Had the same problem, the following code wo...</td>\n",
       "      <td>20</td>\n",
       "    </tr>\n",
       "    <tr>\n",
       "      <th>2</th>\n",
       "      <td>5762446</td>\n",
       "      <td>Python: Find a best fit function for a list of...</td>\n",
       "      <td>&lt;p&gt;I am aware of many probabilistic functions ...</td>\n",
       "      <td>python|equation</td>\n",
       "      <td>&lt;p&gt;Look at &lt;a href=\"http://docs.scipy.org/doc/...</td>\n",
       "      <td>12</td>\n",
       "    </tr>\n",
       "    <tr>\n",
       "      <th>3</th>\n",
       "      <td>1103487</td>\n",
       "      <td>Can I detect if my code is running on cPython ...</td>\n",
       "      <td>&lt;p&gt;I'm working on a small django project that ...</td>\n",
       "      <td>python|django|jython</td>\n",
       "      <td>&lt;p&gt;if you're running Jython  &lt;/p&gt;\\n\\n&lt;pre&gt;&lt;cod...</td>\n",
       "      <td>17</td>\n",
       "    </tr>\n",
       "    <tr>\n",
       "      <th>4</th>\n",
       "      <td>4479710</td>\n",
       "      <td>Sane way to define default variable values fro...</td>\n",
       "      <td>&lt;p&gt;I'd like to set default values for variable...</td>\n",
       "      <td>python|jinja2</td>\n",
       "      <td>&lt;p&gt;The &lt;a href=\"http://jinja.pocoo.org/templat...</td>\n",
       "      <td>14</td>\n",
       "    </tr>\n",
       "  </tbody>\n",
       "</table>\n",
       "</div>"
      ],
      "text/plain": [
       "         id                                              title  \\\n",
       "0   2345151            how to save/read class wholly in Python   \n",
       "1  15288891  How can I serve files with UTF-8 encoding usin...   \n",
       "2   5762446  Python: Find a best fit function for a list of...   \n",
       "3   1103487  Can I detect if my code is running on cPython ...   \n",
       "4   4479710  Sane way to define default variable values fro...   \n",
       "\n",
       "                                                body                   tags  \\\n",
       "0  <pre><code>som = SOM_CLASS() # includes many b...  python|class|autosave   \n",
       "1  <p>I often use the following to quickly fire u...       python|webserver   \n",
       "2  <p>I am aware of many probabilistic functions ...        python|equation   \n",
       "3  <p>I'm working on a small django project that ...   python|django|jython   \n",
       "4  <p>I'd like to set default values for variable...          python|jinja2   \n",
       "\n",
       "                                             answers  score  \n",
       "0  <p>You can (de)serialize with <a href=\"http://...     17  \n",
       "1  <p>Had the same problem, the following code wo...     20  \n",
       "2  <p>Look at <a href=\"http://docs.scipy.org/doc/...     12  \n",
       "3  <p>if you're running Jython  </p>\\n\\n<pre><cod...     17  \n",
       "4  <p>The <a href=\"http://jinja.pocoo.org/templat...     14  "
      ]
     },
     "execution_count": 3,
     "metadata": {},
     "output_type": "execute_result"
    }
   ],
   "source": [
    "data = pd.read_csv('data/Original_data.csv')\n",
    "data.head()"
   ]
  },
  {
   "cell_type": "code",
   "execution_count": 4,
   "metadata": {},
   "outputs": [
    {
     "data": {
      "text/html": [
       "<div>\n",
       "<style scoped>\n",
       "    .dataframe tbody tr th:only-of-type {\n",
       "        vertical-align: middle;\n",
       "    }\n",
       "\n",
       "    .dataframe tbody tr th {\n",
       "        vertical-align: top;\n",
       "    }\n",
       "\n",
       "    .dataframe thead th {\n",
       "        text-align: right;\n",
       "    }\n",
       "</style>\n",
       "<table border=\"1\" class=\"dataframe\">\n",
       "  <thead>\n",
       "    <tr style=\"text-align: right;\">\n",
       "      <th></th>\n",
       "      <th>id</th>\n",
       "      <th>title</th>\n",
       "      <th>body</th>\n",
       "      <th>tags</th>\n",
       "      <th>answers</th>\n",
       "      <th>score</th>\n",
       "    </tr>\n",
       "  </thead>\n",
       "  <tbody>\n",
       "    <tr>\n",
       "      <th>0</th>\n",
       "      <td>2345151</td>\n",
       "      <td>how to save/read class wholly in Python</td>\n",
       "      <td>&lt;pre&gt;&lt;code&gt;som = SOM_CLASS() # includes many b...</td>\n",
       "      <td>python|class|autosave</td>\n",
       "      <td>&lt;p&gt;You can (de)serialize with &lt;a href=\"http://...</td>\n",
       "      <td>17</td>\n",
       "    </tr>\n",
       "    <tr>\n",
       "      <th>90599</th>\n",
       "      <td>2345151</td>\n",
       "      <td>how to save/read class wholly in Python</td>\n",
       "      <td>&lt;pre&gt;&lt;code&gt;som = SOM_CLASS() # includes many b...</td>\n",
       "      <td>python|class|autosave</td>\n",
       "      <td>&lt;p&gt;Take a look at Python's &lt;a href=\"http://doc...</td>\n",
       "      <td>3</td>\n",
       "    </tr>\n",
       "    <tr>\n",
       "      <th>147378</th>\n",
       "      <td>2345151</td>\n",
       "      <td>how to save/read class wholly in Python</td>\n",
       "      <td>&lt;pre&gt;&lt;code&gt;som = SOM_CLASS() # includes many b...</td>\n",
       "      <td>python|class|autosave</td>\n",
       "      <td>&lt;p&gt;I use this code:&lt;/p&gt;\\n\\n&lt;pre&gt;&lt;code&gt;import c...</td>\n",
       "      <td>6</td>\n",
       "    </tr>\n",
       "  </tbody>\n",
       "</table>\n",
       "</div>"
      ],
      "text/plain": [
       "             id                                    title  \\\n",
       "0       2345151  how to save/read class wholly in Python   \n",
       "90599   2345151  how to save/read class wholly in Python   \n",
       "147378  2345151  how to save/read class wholly in Python   \n",
       "\n",
       "                                                     body  \\\n",
       "0       <pre><code>som = SOM_CLASS() # includes many b...   \n",
       "90599   <pre><code>som = SOM_CLASS() # includes many b...   \n",
       "147378  <pre><code>som = SOM_CLASS() # includes many b...   \n",
       "\n",
       "                         tags  \\\n",
       "0       python|class|autosave   \n",
       "90599   python|class|autosave   \n",
       "147378  python|class|autosave   \n",
       "\n",
       "                                                  answers  score  \n",
       "0       <p>You can (de)serialize with <a href=\"http://...     17  \n",
       "90599   <p>Take a look at Python's <a href=\"http://doc...      3  \n",
       "147378  <p>I use this code:</p>\\n\\n<pre><code>import c...      6  "
      ]
     },
     "execution_count": 4,
     "metadata": {},
     "output_type": "execute_result"
    }
   ],
   "source": [
    "data[data.id==2345151]"
   ]
  },
  {
   "cell_type": "code",
   "execution_count": 5,
   "metadata": {},
   "outputs": [
    {
     "name": "stdout",
     "output_type": "stream",
     "text": [
      "Total number of tags:14384\n"
     ]
    }
   ],
   "source": [
    "s=set()\n",
    "for i in data[\"tags\"].apply(lambda x:x.split('|')):\n",
    "    for j in i:\n",
    "        s.add(j)\n",
    "print(f'Total number of tags:{len(s)}')"
   ]
  },
  {
   "cell_type": "markdown",
   "metadata": {},
   "source": [
    "## Missing Values"
   ]
  },
  {
   "cell_type": "markdown",
   "metadata": {},
   "source": [
    "We can observe that there is no missing values in the data columns."
   ]
  },
  {
   "cell_type": "code",
   "execution_count": 22,
   "metadata": {},
   "outputs": [
    {
     "data": {
      "text/plain": [
       "id         0\n",
       "title      0\n",
       "body       0\n",
       "tags       0\n",
       "answers    0\n",
       "score      0\n",
       "dtype: int64"
      ]
     },
     "execution_count": 22,
     "metadata": {},
     "output_type": "execute_result"
    }
   ],
   "source": [
    "data.isna().sum()"
   ]
  },
  {
   "cell_type": "code",
   "execution_count": 23,
   "metadata": {},
   "outputs": [
    {
     "name": "stdout",
     "output_type": "stream",
     "text": [
      "Dataframe shape:(500000, 6)\n"
     ]
    }
   ],
   "source": [
    "print('Dataframe shape:' + str(data.shape))"
   ]
  },
  {
   "cell_type": "markdown",
   "metadata": {},
   "source": [
    "## Data Preprocessing"
   ]
  },
  {
   "cell_type": "markdown",
   "metadata": {},
   "source": [
    "Here, By concatenating all the answers we formed the groups based on their common querys and tags. In addition to that, we also included the scores for each answer so to get a aggregate score for the whole query."
   ]
  },
  {
   "cell_type": "code",
   "execution_count": 24,
   "metadata": {},
   "outputs": [
    {
     "data": {
      "text/html": [
       "<div>\n",
       "<style scoped>\n",
       "    .dataframe tbody tr th:only-of-type {\n",
       "        vertical-align: middle;\n",
       "    }\n",
       "\n",
       "    .dataframe tbody tr th {\n",
       "        vertical-align: top;\n",
       "    }\n",
       "\n",
       "    .dataframe thead tr th {\n",
       "        text-align: left;\n",
       "    }\n",
       "</style>\n",
       "<table border=\"1\" class=\"dataframe\">\n",
       "  <thead>\n",
       "    <tr>\n",
       "      <th></th>\n",
       "      <th>id</th>\n",
       "      <th>title</th>\n",
       "      <th>body</th>\n",
       "      <th>tags</th>\n",
       "      <th>answers</th>\n",
       "      <th>score</th>\n",
       "    </tr>\n",
       "    <tr>\n",
       "      <th></th>\n",
       "      <th></th>\n",
       "      <th></th>\n",
       "      <th></th>\n",
       "      <th></th>\n",
       "      <th>combined_answers</th>\n",
       "      <th>combined_score</th>\n",
       "    </tr>\n",
       "  </thead>\n",
       "  <tbody>\n",
       "    <tr>\n",
       "      <th>0</th>\n",
       "      <td>502</td>\n",
       "      <td>Get a preview JPEG of a PDF on Windows?</td>\n",
       "      <td>&lt;p&gt;I have a cross-platform (Python) applicatio...</td>\n",
       "      <td>python|windows|image|pdf</td>\n",
       "      <td>&lt;p&gt;ImageMagick delegates the PDF-&gt;bitmap conve...</td>\n",
       "      <td>55</td>\n",
       "    </tr>\n",
       "    <tr>\n",
       "      <th>1</th>\n",
       "      <td>1829</td>\n",
       "      <td>How do I make a menu that does not require the...</td>\n",
       "      <td>&lt;p&gt;I've got a menu in Python. That part was ea...</td>\n",
       "      <td>python</td>\n",
       "      <td>&lt;p&gt;&lt;strong&gt;On Linux:&lt;/strong&gt;&lt;/p&gt;\\n\\n&lt;ul&gt;\\n&lt;li...</td>\n",
       "      <td>22</td>\n",
       "    </tr>\n",
       "    <tr>\n",
       "      <th>2</th>\n",
       "      <td>2311</td>\n",
       "      <td>File size differences after copying a file to ...</td>\n",
       "      <td>&lt;p&gt;I have created a PHP-script to update a web...</td>\n",
       "      <td>php|python|ftp|webserver|ftplib</td>\n",
       "      <td>&lt;p&gt;Well if you go under the properties of your...</td>\n",
       "      <td>18</td>\n",
       "    </tr>\n",
       "    <tr>\n",
       "      <th>3</th>\n",
       "      <td>3061</td>\n",
       "      <td>Calling a function of a module by using its na...</td>\n",
       "      <td>&lt;p&gt;What is the best way to go about calling a ...</td>\n",
       "      <td>python|object</td>\n",
       "      <td>&lt;p&gt;Patrick's solution is probably the cleanest...</td>\n",
       "      <td>3323</td>\n",
       "    </tr>\n",
       "    <tr>\n",
       "      <th>4</th>\n",
       "      <td>4942</td>\n",
       "      <td>How to sell Python to a client/boss/person</td>\n",
       "      <td>&lt;p&gt;When asked to create system XYZ and you ask...</td>\n",
       "      <td>php|python|ruby-on-rails|ruby</td>\n",
       "      <td>&lt;p&gt;Focus on the shorter time needed for develo...</td>\n",
       "      <td>33</td>\n",
       "    </tr>\n",
       "  </tbody>\n",
       "</table>\n",
       "</div>"
      ],
      "text/plain": [
       "     id                                              title  \\\n",
       "                                                             \n",
       "0   502            Get a preview JPEG of a PDF on Windows?   \n",
       "1  1829  How do I make a menu that does not require the...   \n",
       "2  2311  File size differences after copying a file to ...   \n",
       "3  3061  Calling a function of a module by using its na...   \n",
       "4  4942         How to sell Python to a client/boss/person   \n",
       "\n",
       "                                                body  \\\n",
       "                                                       \n",
       "0  <p>I have a cross-platform (Python) applicatio...   \n",
       "1  <p>I've got a menu in Python. That part was ea...   \n",
       "2  <p>I have created a PHP-script to update a web...   \n",
       "3  <p>What is the best way to go about calling a ...   \n",
       "4  <p>When asked to create system XYZ and you ask...   \n",
       "\n",
       "                              tags  \\\n",
       "                                     \n",
       "0         python|windows|image|pdf   \n",
       "1                           python   \n",
       "2  php|python|ftp|webserver|ftplib   \n",
       "3                    python|object   \n",
       "4    php|python|ruby-on-rails|ruby   \n",
       "\n",
       "                                             answers          score  \n",
       "                                    combined_answers combined_score  \n",
       "0  <p>ImageMagick delegates the PDF->bitmap conve...             55  \n",
       "1  <p><strong>On Linux:</strong></p>\\n\\n<ul>\\n<li...             22  \n",
       "2  <p>Well if you go under the properties of your...             18  \n",
       "3  <p>Patrick's solution is probably the cleanest...           3323  \n",
       "4  <p>Focus on the shorter time needed for develo...             33  "
      ]
     },
     "execution_count": 24,
     "metadata": {},
     "output_type": "execute_result"
    }
   ],
   "source": [
    "# combining answers\n",
    "warnings.filterwarnings(\"ignore\")\n",
    "dict1 = {'answers':{'combined_answers': lambda x: \"\\n\".join(x)},\n",
    "    'score':{'combined_score': 'sum'}}\n",
    "combined_data = pd.DataFrame(data.groupby(['id','title', 'body','tags'],as_index=False).agg(dict1))\n",
    "combined_data.head()"
   ]
  },
  {
   "cell_type": "code",
   "execution_count": 25,
   "metadata": {},
   "outputs": [
    {
     "data": {
      "text/html": [
       "<div>\n",
       "<style scoped>\n",
       "    .dataframe tbody tr th:only-of-type {\n",
       "        vertical-align: middle;\n",
       "    }\n",
       "\n",
       "    .dataframe tbody tr th {\n",
       "        vertical-align: top;\n",
       "    }\n",
       "\n",
       "    .dataframe thead tr th {\n",
       "        text-align: left;\n",
       "    }\n",
       "</style>\n",
       "<table border=\"1\" class=\"dataframe\">\n",
       "  <thead>\n",
       "    <tr>\n",
       "      <th></th>\n",
       "      <th>id</th>\n",
       "      <th>title</th>\n",
       "      <th>body</th>\n",
       "      <th>tags</th>\n",
       "      <th>answers</th>\n",
       "      <th>score</th>\n",
       "    </tr>\n",
       "    <tr>\n",
       "      <th></th>\n",
       "      <th></th>\n",
       "      <th></th>\n",
       "      <th></th>\n",
       "      <th></th>\n",
       "      <th>combined_answers</th>\n",
       "      <th>combined_score</th>\n",
       "    </tr>\n",
       "  </thead>\n",
       "  <tbody>\n",
       "    <tr>\n",
       "      <th>4233</th>\n",
       "      <td>2345151</td>\n",
       "      <td>how to save/read class wholly in Python</td>\n",
       "      <td>&lt;pre&gt;&lt;code&gt;som = SOM_CLASS() # includes many b...</td>\n",
       "      <td>python|class|autosave</td>\n",
       "      <td>&lt;p&gt;You can (de)serialize with &lt;a href=\"http://...</td>\n",
       "      <td>26</td>\n",
       "    </tr>\n",
       "  </tbody>\n",
       "</table>\n",
       "</div>"
      ],
      "text/plain": [
       "           id                                    title  \\\n",
       "                                                         \n",
       "4233  2345151  how to save/read class wholly in Python   \n",
       "\n",
       "                                                   body  \\\n",
       "                                                          \n",
       "4233  <pre><code>som = SOM_CLASS() # includes many b...   \n",
       "\n",
       "                       tags  \\\n",
       "                              \n",
       "4233  python|class|autosave   \n",
       "\n",
       "                                                answers          score  \n",
       "                                       combined_answers combined_score  \n",
       "4233  <p>You can (de)serialize with <a href=\"http://...             26  "
      ]
     },
     "execution_count": 25,
     "metadata": {},
     "output_type": "execute_result"
    }
   ],
   "source": [
    "combined_data[combined_data.id==2345151]"
   ]
  },
  {
   "cell_type": "markdown",
   "metadata": {},
   "source": [
    "Let's check the result of combining answers and their scores"
   ]
  },
  {
   "cell_type": "code",
   "execution_count": 27,
   "metadata": {},
   "outputs": [
    {
     "name": "stdout",
     "output_type": "stream",
     "text": [
      "Max score before 6805 and Max score after:10978\n"
     ]
    }
   ],
   "source": [
    "print(f\"Max score before {np.max(df.score.values)} and Max score after:{np.max(combined_data.score.values)}\")"
   ]
  },
  {
   "cell_type": "markdown",
   "metadata": {},
   "source": [
    "Let's define the funtions to perform some text preprocessing. \n",
    "\n",
    "- **tokenize_data** takes the raw data and converts the text into tokens. <br/>\n",
    "- **to_lower** helps to convert the tokens to lower case. <br/>\n",
    "- **eliminate_punc** helps to remove the punctuations. <br/>\n",
    "- **eliminate_stopword** will helps to remove the stopwords in english."
   ]
  },
  {
   "cell_type": "code",
   "execution_count": 28,
   "metadata": {},
   "outputs": [],
   "source": [
    "import re\n",
    "import nltk\n",
    "from nltk.corpus import stopwords\n",
    "\n",
    "def tokenize_data(text):\n",
    "    t = EN.tokenizer(text)\n",
    "    return [token.text.lower() for token in t if not token.is_space]\n",
    "\n",
    "def to_lower(w):\n",
    "    list1 = []\n",
    "    for i in w:\n",
    "        x = i.lower()\n",
    "        list1.append(x)\n",
    "    return list1\n",
    "\n",
    "def eliminate_punc(w):\n",
    "    list1 = []\n",
    "    for i in w:\n",
    "        x = re.sub(r'[^\\w\\s]', '', i)\n",
    "        if x != '':\n",
    "            list1.append(x)\n",
    "    return list1\n",
    "\n",
    "def eliminate_stopword(w):\n",
    "    list1 = []\n",
    "    for i in w:\n",
    "        if i not in stopwords.words('english'):\n",
    "            list1.append(i)\n",
    "    return list1"
   ]
  },
  {
   "cell_type": "code",
   "execution_count": 34,
   "metadata": {},
   "outputs": [],
   "source": [
    "def normalize(w):\n",
    "    w = to_lower(w)\n",
    "    w = eliminate_punc(w)\n",
    "    w = eliminate_stopword(w)\n",
    "    return w\n",
    "def preprocess_text(text):\n",
    "    return ' '.join(normalize(tokenize_data(text)))"
   ]
  },
  {
   "cell_type": "markdown",
   "metadata": {},
   "source": [
    "Text from Stackoverflow also has HTML markup tags like *p tags, h1-h6 tags inaddition to Questions and Answers. We preprocessed the data and appended a new feature 'post_corpus' which is the combination of question body, title and all the answers. Also column 'question_url' is created by appending question id to url 'http://stackoverflow.com/questions/'"
   ]
  },
  {
   "cell_type": "code",
   "execution_count": 30,
   "metadata": {},
   "outputs": [],
   "source": [
    "list2,c_list,u_list,comment_list,score_list,tag_list,corpus_list = [],[],[],[],[],[],[] \n",
    "\n",
    "for i, row in combined_data.iterrows():\n",
    "    list2.append(row.title.values[0])    \n",
    "    tag_list.append(row.tags.values[0])     \n",
    "    \n",
    "    # Questions\n",
    "    content = row.body.values[0]\n",
    "    soup = BeautifulSoup(content, 'lxml')\n",
    "    if soup.code: soup.code.decompose()     \n",
    "    tag_p = soup.p\n",
    "    tag_pre = soup.pre\n",
    "    text = ''\n",
    "    if tag_p: text = text + tag_p.get_text()\n",
    "    if tag_pre: text = text + tag_pre.get_text()\n",
    "        \n",
    "    c_list.append(str(row.title.values[0]) + ' ' + str(text))\n",
    "    u_list.append('https://stackoverflow.com/questions/' + str(row.id.values[0]))\n",
    "    \n",
    "    # Answers\n",
    "    content = row.answers.values[0]\n",
    "    soup = BeautifulSoup(content, 'lxml')\n",
    "    if soup.code: soup.code.decompose()\n",
    "    tag_p = soup.p\n",
    "    tag_pre = soup.pre\n",
    "    text = ''\n",
    "    if tag_p: text = text + tag_p.get_text()\n",
    "    if tag_pre: text = text + tag_pre.get_text()\n",
    "    comment_list.append(text)\n",
    "    \n",
    "    score_list.append(row.score.values[0])       \n",
    "    \n",
    "    corpus_list.append(c_list[-1] + ' ' + comment_list[-1])\n",
    "\n",
    "modified_df = pd.DataFrame({'original_title': list2, 'post_corpus': corpus_list, 'question_content': c_list, 'question_url': u_list, 'tags': tag_list, 'overall_scores':score_list,'answers_content': comment_list})"
   ]
  },
  {
   "cell_type": "code",
   "execution_count": 31,
   "metadata": {},
   "outputs": [
    {
     "data": {
      "text/html": [
       "<div>\n",
       "<style scoped>\n",
       "    .dataframe tbody tr th:only-of-type {\n",
       "        vertical-align: middle;\n",
       "    }\n",
       "\n",
       "    .dataframe tbody tr th {\n",
       "        vertical-align: top;\n",
       "    }\n",
       "\n",
       "    .dataframe thead th {\n",
       "        text-align: right;\n",
       "    }\n",
       "</style>\n",
       "<table border=\"1\" class=\"dataframe\">\n",
       "  <thead>\n",
       "    <tr style=\"text-align: right;\">\n",
       "      <th></th>\n",
       "      <th>original_title</th>\n",
       "      <th>post_corpus</th>\n",
       "      <th>question_content</th>\n",
       "      <th>question_url</th>\n",
       "      <th>tags</th>\n",
       "      <th>overall_scores</th>\n",
       "      <th>answers_content</th>\n",
       "    </tr>\n",
       "  </thead>\n",
       "  <tbody>\n",
       "    <tr>\n",
       "      <th>0</th>\n",
       "      <td>Get a preview JPEG of a PDF on Windows?</td>\n",
       "      <td>Get a preview JPEG of a PDF on Windows? I have...</td>\n",
       "      <td>Get a preview JPEG of a PDF on Windows? I have...</td>\n",
       "      <td>https://stackoverflow.com/questions/502</td>\n",
       "      <td>python|windows|image|pdf</td>\n",
       "      <td>55</td>\n",
       "      <td>ImageMagick delegates the PDF-&gt;bitmap conversi...</td>\n",
       "    </tr>\n",
       "    <tr>\n",
       "      <th>1</th>\n",
       "      <td>How do I make a menu that does not require the...</td>\n",
       "      <td>How do I make a menu that does not require the...</td>\n",
       "      <td>How do I make a menu that does not require the...</td>\n",
       "      <td>https://stackoverflow.com/questions/1829</td>\n",
       "      <td>python</td>\n",
       "      <td>22</td>\n",
       "      <td>On Linux:\\nimport sys\\nimport select\\nimport t...</td>\n",
       "    </tr>\n",
       "    <tr>\n",
       "      <th>2</th>\n",
       "      <td>File size differences after copying a file to ...</td>\n",
       "      <td>File size differences after copying a file to ...</td>\n",
       "      <td>File size differences after copying a file to ...</td>\n",
       "      <td>https://stackoverflow.com/questions/2311</td>\n",
       "      <td>php|python|ftp|webserver|ftplib</td>\n",
       "      <td>18</td>\n",
       "      <td>Well if you go under the properties of your fi...</td>\n",
       "    </tr>\n",
       "    <tr>\n",
       "      <th>3</th>\n",
       "      <td>Calling a function of a module by using its na...</td>\n",
       "      <td>Calling a function of a module by using its na...</td>\n",
       "      <td>Calling a function of a module by using its na...</td>\n",
       "      <td>https://stackoverflow.com/questions/3061</td>\n",
       "      <td>python|object</td>\n",
       "      <td>3323</td>\n",
       "      <td>Patrick's solution is probably the cleanest.\\n...</td>\n",
       "    </tr>\n",
       "    <tr>\n",
       "      <th>4</th>\n",
       "      <td>How to sell Python to a client/boss/person</td>\n",
       "      <td>How to sell Python to a client/boss/person Whe...</td>\n",
       "      <td>How to sell Python to a client/boss/person Whe...</td>\n",
       "      <td>https://stackoverflow.com/questions/4942</td>\n",
       "      <td>php|python|ruby-on-rails|ruby</td>\n",
       "      <td>33</td>\n",
       "      <td>Focus on the shorter time needed for developme...</td>\n",
       "    </tr>\n",
       "  </tbody>\n",
       "</table>\n",
       "</div>"
      ],
      "text/plain": [
       "                                      original_title  \\\n",
       "0            Get a preview JPEG of a PDF on Windows?   \n",
       "1  How do I make a menu that does not require the...   \n",
       "2  File size differences after copying a file to ...   \n",
       "3  Calling a function of a module by using its na...   \n",
       "4         How to sell Python to a client/boss/person   \n",
       "\n",
       "                                         post_corpus  \\\n",
       "0  Get a preview JPEG of a PDF on Windows? I have...   \n",
       "1  How do I make a menu that does not require the...   \n",
       "2  File size differences after copying a file to ...   \n",
       "3  Calling a function of a module by using its na...   \n",
       "4  How to sell Python to a client/boss/person Whe...   \n",
       "\n",
       "                                    question_content  \\\n",
       "0  Get a preview JPEG of a PDF on Windows? I have...   \n",
       "1  How do I make a menu that does not require the...   \n",
       "2  File size differences after copying a file to ...   \n",
       "3  Calling a function of a module by using its na...   \n",
       "4  How to sell Python to a client/boss/person Whe...   \n",
       "\n",
       "                               question_url                             tags  \\\n",
       "0   https://stackoverflow.com/questions/502         python|windows|image|pdf   \n",
       "1  https://stackoverflow.com/questions/1829                           python   \n",
       "2  https://stackoverflow.com/questions/2311  php|python|ftp|webserver|ftplib   \n",
       "3  https://stackoverflow.com/questions/3061                    python|object   \n",
       "4  https://stackoverflow.com/questions/4942    php|python|ruby-on-rails|ruby   \n",
       "\n",
       "   overall_scores                                    answers_content  \n",
       "0              55  ImageMagick delegates the PDF->bitmap conversi...  \n",
       "1              22  On Linux:\\nimport sys\\nimport select\\nimport t...  \n",
       "2              18  Well if you go under the properties of your fi...  \n",
       "3            3323  Patrick's solution is probably the cleanest.\\n...  \n",
       "4              33  Focus on the shorter time needed for developme...  "
      ]
     },
     "execution_count": 31,
     "metadata": {},
     "output_type": "execute_result"
    }
   ],
   "source": [
    "modified_df.head()"
   ]
  },
  {
   "cell_type": "markdown",
   "metadata": {},
   "source": [
    "## Data Normalization"
   ]
  },
  {
   "cell_type": "markdown",
   "metadata": {},
   "source": [
    "Here, we normalized the 'question_body', 'post_corpus' colums and appended the column 'processed_title' to preserve the original title."
   ]
  },
  {
   "cell_type": "code",
   "execution_count": 35,
   "metadata": {},
   "outputs": [],
   "source": [
    "# Preprocess text for 'question_body', 'post_corpus' and a new column 'processed_title'\n",
    "warnings.filterwarnings(\"ignore\")\n",
    "modified_df.question_content = modified_df.question_content.apply(lambda x: preprocess_text(x))\n",
    "modified_df.post_corpus = modified_df.post_corpus.apply(lambda x: preprocess_text(x))\n",
    "modified_df['processed_title'] = modified_df.original_title.apply(lambda x: preprocess_text(x))"
   ]
  },
  {
   "cell_type": "code",
   "execution_count": 36,
   "metadata": {},
   "outputs": [],
   "source": [
    "# Save the data\n",
    "modified_df.to_csv('data/Preprocessed_data1.csv', index=False)"
   ]
  }
 ],
 "metadata": {
  "kernelspec": {
   "display_name": "Python 3",
   "language": "python",
   "name": "python3"
  },
  "language_info": {
   "codemirror_mode": {
    "name": "ipython",
    "version": 3
   },
   "file_extension": ".py",
   "mimetype": "text/x-python",
   "name": "python",
   "nbconvert_exporter": "python",
   "pygments_lexer": "ipython3",
   "version": "3.7.0"
  }
 },
 "nbformat": 4,
 "nbformat_minor": 2
}
